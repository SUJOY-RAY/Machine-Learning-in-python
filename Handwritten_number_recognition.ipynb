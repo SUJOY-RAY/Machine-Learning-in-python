{
  "cells": [
    {
      "cell_type": "markdown",
      "metadata": {
        "id": "view-in-github",
        "colab_type": "text"
      },
      "source": [
        "<a href=\"https://colab.research.google.com/github/SUJOY-RAY/Machine-Learning-in-python/blob/main/Handwritten_number_recognition.ipynb\" target=\"_parent\"><img src=\"https://colab.research.google.com/assets/colab-badge.svg\" alt=\"Open In Colab\"/></a>"
      ]
    },
    {
      "cell_type": "markdown",
      "metadata": {
        "id": "EAlwP17-ROC9"
      },
      "source": [
        "# **Fetching dataset**"
      ]
    },
    {
      "cell_type": "code",
      "execution_count": 26,
      "metadata": {
        "id": "8zzC5nMyRHLt"
      },
      "outputs": [],
      "source": [
        "from sklearn.datasets import fetch_openml"
      ]
    },
    {
      "cell_type": "code",
      "execution_count": 27,
      "metadata": {
        "colab": {
          "base_uri": "https://localhost:8080/"
        },
        "id": "h6heIT3bRxZz",
        "outputId": "4d817855-3fb2-491d-9d4b-92e7f1e842b5"
      },
      "outputs": [
        {
          "output_type": "stream",
          "name": "stderr",
          "text": [
            "/usr/local/lib/python3.10/dist-packages/sklearn/datasets/_openml.py:968: FutureWarning: The default value of `parser` will change from `'liac-arff'` to `'auto'` in 1.4. You can set `parser='auto'` to silence this warning. Therefore, an `ImportError` will be raised from 1.4 if the dataset is dense and pandas is not installed. Note that the pandas parser may return different data types. See the Notes Section in fetch_openml's API doc for details.\n",
            "  warn(\n"
          ]
        }
      ],
      "source": [
        "mnist=fetch_openml('mnist_784', as_frame=False)"
      ]
    },
    {
      "cell_type": "code",
      "execution_count": 28,
      "metadata": {
        "id": "B9mb177BR4CQ"
      },
      "outputs": [],
      "source": [
        "x,y=mnist['data'], mnist['target']"
      ]
    },
    {
      "cell_type": "code",
      "execution_count": 29,
      "metadata": {
        "colab": {
          "base_uri": "https://localhost:8080/"
        },
        "id": "HikJW7XaUz7l",
        "outputId": "2d56d27e-d17a-4c1c-f489-dead83714e1f"
      },
      "outputs": [
        {
          "output_type": "execute_result",
          "data": {
            "text/plain": [
              "array([[0., 0., 0., ..., 0., 0., 0.],\n",
              "       [0., 0., 0., ..., 0., 0., 0.],\n",
              "       [0., 0., 0., ..., 0., 0., 0.],\n",
              "       ...,\n",
              "       [0., 0., 0., ..., 0., 0., 0.],\n",
              "       [0., 0., 0., ..., 0., 0., 0.],\n",
              "       [0., 0., 0., ..., 0., 0., 0.]])"
            ]
          },
          "metadata": {},
          "execution_count": 29
        }
      ],
      "source": [
        "x"
      ]
    },
    {
      "cell_type": "code",
      "execution_count": 30,
      "metadata": {
        "colab": {
          "base_uri": "https://localhost:8080/"
        },
        "id": "reHk6y7-SRTT",
        "outputId": "d86fc105-f51c-4c28-934a-0af842eee83c"
      },
      "outputs": [
        {
          "output_type": "execute_result",
          "data": {
            "text/plain": [
              "(70000, 784)"
            ]
          },
          "metadata": {},
          "execution_count": 30
        }
      ],
      "source": [
        "x.shape"
      ]
    },
    {
      "cell_type": "code",
      "execution_count": 31,
      "metadata": {
        "id": "RtdjF5VySYiR"
      },
      "outputs": [],
      "source": [
        "import matplotlib.pyplot as plt"
      ]
    },
    {
      "cell_type": "code",
      "execution_count": 32,
      "metadata": {
        "colab": {
          "base_uri": "https://localhost:8080/"
        },
        "id": "09RwNSuyT6S3",
        "outputId": "940dceec-b32e-4453-b6a1-f2500d0fc139"
      },
      "outputs": [
        {
          "output_type": "execute_result",
          "data": {
            "text/plain": [
              "(70000,)"
            ]
          },
          "metadata": {},
          "execution_count": 32
        }
      ],
      "source": [
        "y.shape"
      ]
    },
    {
      "cell_type": "code",
      "execution_count": 50,
      "metadata": {
        "id": "4fWysl30SmD9"
      },
      "outputs": [],
      "source": [
        "some_digit=x[5]\n",
        "some_digit_image=some_digit.reshape(28,28)  #reshape to plot it"
      ]
    },
    {
      "cell_type": "code",
      "execution_count": 34,
      "metadata": {
        "id": "9I01vZkYWK6D"
      },
      "outputs": [],
      "source": [
        "%matplotlib inline"
      ]
    },
    {
      "cell_type": "code",
      "execution_count": 35,
      "metadata": {
        "id": "nh_cTD3YTii6"
      },
      "outputs": [],
      "source": [
        "import matplotlib\n",
        "import matplotlib.pyplot as plt"
      ]
    },
    {
      "cell_type": "code",
      "execution_count": 51,
      "metadata": {
        "colab": {
          "base_uri": "https://localhost:8080/",
          "height": 424
        },
        "id": "ukhdamf8VNJ7",
        "outputId": "af1a6a3f-dadb-438b-d291-e4e2995c6056"
      },
      "outputs": [
        {
          "output_type": "execute_result",
          "data": {
            "text/plain": [
              "(-0.5, 27.5, 27.5, -0.5)"
            ]
          },
          "metadata": {},
          "execution_count": 51
        },
        {
          "output_type": "display_data",
          "data": {
            "text/plain": [
              "<Figure size 640x480 with 1 Axes>"
            ],
            "image/png": "[encoded data removed]"
          },
          "metadata": {}
        }
      ],
      "source": [
        "plt.imshow(some_digit_image, cmap=matplotlib.cm.binary,interpolation='nearest')\n",
        "plt.axis('off')"
      ]
    },
    {
      "cell_type": "code",
      "execution_count": 37,
      "metadata": {
        "colab": {
          "base_uri": "https://localhost:8080/",
          "height": 36
        },
        "id": "6pxbBNnWVNHH",
        "outputId": "79fd21a6-861f-4d1e-9099-44b789895f0f"
      },
      "outputs": [
        {
          "output_type": "execute_result",
          "data": {
            "text/plain": [
              "'0'"
            ],
            "application/vnd.google.colaboratory.intrinsic+json": {
              "type": "string"
            }
          },
          "metadata": {},
          "execution_count": 37
        }
      ],
      "source": [
        "y[1] #numeric value"
      ]
    },
    {
      "cell_type": "code",
      "execution_count": 38,
      "metadata": {
        "id": "yb_dZmI-VNDs"
      },
      "outputs": [],
      "source": [
        "x_train=x[:6000]\n",
        "x_test=x[6000:]"
      ]
    },
    {
      "cell_type": "code",
      "execution_count": 39,
      "metadata": {
        "id": "XV6AnYmvVMx5"
      },
      "outputs": [],
      "source": [
        "y_train=y[6000:7000]\n",
        "y_test=y[6000:7000]"
      ]
    },
    {
      "cell_type": "code",
      "execution_count": 40,
      "metadata": {
        "id": "Z8fCl6uuVMtQ"
      },
      "outputs": [],
      "source": [
        "import numpy as np\n",
        "shuffle_index=np.random.permutation(500)\n",
        "x_train=x_train[shuffle_index]\n",
        "y_train=y_train[shuffle_index]"
      ]
    },
    {
      "cell_type": "markdown",
      "metadata": {
        "id": "LkewrhtSYWGu"
      },
      "source": [
        "# **Creating a 2 detector**"
      ]
    },
    {
      "cell_type": "code",
      "execution_count": 41,
      "metadata": {
        "id": "TCqyp7YtYULU"
      },
      "outputs": [],
      "source": [
        "y_train=y_train.astype(np.int8)\n",
        "y_test=y_train.astype(np.int8)\n",
        "y_train_2=(y_train==2)\n",
        "y_test_2=(y_test==2)"
      ]
    },
    {
      "cell_type": "code",
      "execution_count": 42,
      "metadata": {
        "colab": {
          "base_uri": "https://localhost:8080/"
        },
        "id": "16Rk_KvUYj4_",
        "outputId": "e6c17f8b-1b3c-48b3-ac35-f7d2688b51bf"
      },
      "outputs": [
        {
          "output_type": "execute_result",
          "data": {
            "text/plain": [
              "array([2, 3, 3, 0, 9, 8, 9, 3, 9, 0, 4, 8, 6, 0, 7, 1, 5, 1, 6, 5, 8, 0,\n",
              "       4, 8, 2, 2, 1, 2, 7, 5, 1, 0, 3, 6, 0, 4, 0, 2, 3, 2, 8, 2, 7, 1,\n",
              "       7, 4, 2, 8, 7, 7, 6, 0, 4, 9, 2, 3, 2, 9, 4, 8, 6, 2, 8, 5, 0, 2,\n",
              "       3, 0, 7, 4, 8, 1, 8, 2, 3, 6, 3, 8, 3, 6, 0, 7, 3, 4, 3, 8, 7, 2,\n",
              "       3, 7, 1, 9, 9, 7, 7, 4, 2, 5, 1, 1, 7, 4, 5, 3, 9, 2, 2, 6, 6, 0,\n",
              "       5, 7, 2, 2, 3, 8, 3, 2, 4, 4, 8, 8, 8, 1, 3, 2, 1, 1, 1, 2, 4, 3,\n",
              "       7, 1, 7, 5, 6, 9, 4, 3, 2, 1, 6, 9, 6, 0, 8, 6, 2, 1, 5, 9, 5, 7,\n",
              "       4, 0, 7, 4, 4, 7, 0, 0, 1, 2, 4, 5, 5, 4, 7, 2, 9, 6, 4, 9, 2, 0,\n",
              "       3, 3, 6, 0, 0, 3, 8, 3, 3, 1, 2, 6, 7, 5, 3, 8, 1, 2, 8, 4, 3, 9,\n",
              "       7, 6, 7, 9, 5, 9, 1, 9, 5, 9, 3, 5, 5, 5, 3, 4, 2, 1, 9, 8, 1, 7,\n",
              "       0, 2, 7, 0, 0, 3, 4, 6, 0, 2, 1, 6, 8, 0, 7, 4, 6, 6, 5, 1, 9, 8,\n",
              "       2, 0, 6, 3, 8, 6, 0, 5, 7, 5, 4, 8, 0, 1, 4, 6, 1, 6, 1, 4, 7, 7,\n",
              "       2, 1, 0, 4, 9, 0, 0, 6, 3, 4, 9, 3, 8, 4, 5, 0, 8, 7, 2, 9, 0, 9,\n",
              "       4, 0, 4, 5, 4, 5, 4, 9, 3, 7, 5, 1, 7, 0, 9, 8, 9, 8, 0, 8, 5, 0,\n",
              "       8, 6, 4, 9, 8, 6, 6, 3, 7, 8, 4, 5, 7, 1, 5, 3, 5, 6, 5, 9, 8, 2,\n",
              "       3, 7, 3, 6, 6, 7, 6, 1, 7, 5, 4, 3, 0, 3, 3, 0, 9, 4, 0, 7, 0, 9,\n",
              "       7, 1, 7, 4, 6, 4, 5, 7, 5, 1, 6, 2, 5, 1, 9, 6, 4, 9, 6, 2, 1, 8,\n",
              "       9, 1, 2, 3, 5, 3, 9, 4, 6, 1, 7, 3, 1, 9, 5, 3, 9, 8, 4, 1, 0, 3,\n",
              "       1, 2, 3, 2, 8, 3, 2, 8, 4, 5, 5, 5, 6, 1, 5, 4, 3, 1, 1, 7, 1, 2,\n",
              "       7, 8, 1, 8, 9, 0, 2, 5, 6, 1, 7, 9, 2, 5, 2, 1, 1, 1, 5, 7, 2, 3,\n",
              "       1, 1, 3, 9, 9, 8, 1, 9, 6, 9, 0, 8, 2, 8, 3, 7, 1, 8, 7, 9, 6, 3,\n",
              "       6, 5, 5, 1, 6, 0, 3, 7, 9, 5, 0, 9, 7, 8, 2, 4, 0, 6, 6, 2, 1, 4,\n",
              "       3, 3, 9, 2, 2, 6, 7, 0, 2, 5, 3, 1, 1, 5, 9, 1], dtype=int8)"
            ]
          },
          "metadata": {},
          "execution_count": 42
        }
      ],
      "source": [
        "y_train"
      ]
    },
    {
      "cell_type": "code",
      "execution_count": 43,
      "metadata": {
        "id": "eLopKKJvYm74"
      },
      "outputs": [],
      "source": [
        "from sklearn.linear_model import LogisticRegression"
      ]
    },
    {
      "cell_type": "code",
      "execution_count": 44,
      "metadata": {
        "id": "PvuB7ZGyZFTt"
      },
      "outputs": [],
      "source": [
        "clf=LogisticRegression(max_iter=1000)"
      ]
    },
    {
      "cell_type": "code",
      "execution_count": 45,
      "metadata": {
        "colab": {
          "base_uri": "https://localhost:8080/",
          "height": 74
        },
        "id": "0g4e0cjxZK-L",
        "outputId": "924bb680-fa82-419e-d671-f0e9ef455e9c"
      },
      "outputs": [
        {
          "output_type": "execute_result",
          "data": {
            "text/plain": [
              "LogisticRegression(max_iter=1000)"
            ],
            "text/html": [
              "<style>#sk-container-id-2 {color: black;background-color: white;}#sk-container-id-2 pre{padding: 0;}#sk-container-id-2 div.sk-toggleable {background-color: white;}#sk-container-id-2 label.sk-toggleable__label {cursor: pointer;display: block;width: 100%;margin-bottom: 0;padding: 0.3em;box-sizing: border-box;text-align: center;}#sk-container-id-2 label.sk-toggleable__label-arrow:before {content: \"▸\";float: left;margin-right: 0.25em;color: #696969;}#sk-container-id-2 label.sk-toggleable__label-arrow:hover:before {color: black;}#sk-container-id-2 div.sk-estimator:hover label.sk-toggleable__label-arrow:before {color: black;}#sk-container-id-2 div.sk-toggleable__content {max-height: 0;max-width: 0;overflow: hidden;text-align: left;background-color: #f0f8ff;}#sk-container-id-2 div.sk-toggleable__content pre {margin: 0.2em;color: black;border-radius: 0.25em;background-color: #f0f8ff;}#sk-container-id-2 input.sk-toggleable__control:checked~div.sk-toggleable__content {max-height: 200px;max-width: 100%;overflow: auto;}#sk-container-id-2 input.sk-toggleable__control:checked~label.sk-toggleable__label-arrow:before {content: \"▾\";}#sk-container-id-2 div.sk-estimator input.sk-toggleable__control:checked~label.sk-toggleable__label {background-color: #d4ebff;}#sk-container-id-2 div.sk-label input.sk-toggleable__control:checked~label.sk-toggleable__label {background-color: #d4ebff;}#sk-container-id-2 input.sk-hidden--visually {border: 0;clip: rect(1px 1px 1px 1px);clip: rect(1px, 1px, 1px, 1px);height: 1px;margin: -1px;overflow: hidden;padding: 0;position: absolute;width: 1px;}#sk-container-id-2 div.sk-estimator {font-family: monospace;background-color: #f0f8ff;border: 1px dotted black;border-radius: 0.25em;box-sizing: border-box;margin-bottom: 0.5em;}#sk-container-id-2 div.sk-estimator:hover {background-color: #d4ebff;}#sk-container-id-2 div.sk-parallel-item::after {content: \"\";width: 100%;border-bottom: 1px solid gray;flex-grow: 1;}#sk-container-id-2 div.sk-label:hover label.sk-toggleable__label {background-color: #d4ebff;}#sk-container-id-2 div.sk-serial::before {content: \"\";position: absolute;border-left: 1px solid gray;box-sizing: border-box;top: 0;bottom: 0;left: 50%;z-index: 0;}#sk-container-id-2 div.sk-serial {display: flex;flex-direction: column;align-items: center;background-color: white;padding-right: 0.2em;padding-left: 0.2em;position: relative;}#sk-container-id-2 div.sk-item {position: relative;z-index: 1;}#sk-container-id-2 div.sk-parallel {display: flex;align-items: stretch;justify-content: center;background-color: white;position: relative;}#sk-container-id-2 div.sk-item::before, #sk-container-id-2 div.sk-parallel-item::before {content: \"\";position: absolute;border-left: 1px solid gray;box-sizing: border-box;top: 0;bottom: 0;left: 50%;z-index: -1;}#sk-container-id-2 div.sk-parallel-item {display: flex;flex-direction: column;z-index: 1;position: relative;background-color: white;}#sk-container-id-2 div.sk-parallel-item:first-child::after {align-self: flex-end;width: 50%;}#sk-container-id-2 div.sk-parallel-item:last-child::after {align-self: flex-start;width: 50%;}#sk-container-id-2 div.sk-parallel-item:only-child::after {width: 0;}#sk-container-id-2 div.sk-dashed-wrapped {border: 1px dashed gray;margin: 0 0.4em 0.5em 0.4em;box-sizing: border-box;padding-bottom: 0.4em;background-color: white;}#sk-container-id-2 div.sk-label label {font-family: monospace;font-weight: bold;display: inline-block;line-height: 1.2em;}#sk-container-id-2 div.sk-label-container {text-align: center;}#sk-container-id-2 div.sk-container {/* jupyter's `normalize.less` sets `[hidden] { display: none; }` but bootstrap.min.css set `[hidden] { display: none !important; }` so we also need the `!important` here to be able to override the default hidden behavior on the sphinx rendered scikit-learn.org. See: https://github.com/scikit-learn/scikit-learn/issues/21755 */display: inline-block !important;position: relative;}#sk-container-id-2 div.sk-text-repr-fallback {display: none;}</style><div id=\"sk-container-id-2\" class=\"sk-top-container\"><div class=\"sk-text-repr-fallback\"><pre>LogisticRegression(max_iter=1000)</pre><b>In a Jupyter environment, please rerun this cell to show the HTML representation or trust the notebook. <br />On GitHub, the HTML representation is unable to render, please try loading this page with nbviewer.org.</b></div><div class=\"sk-container\" hidden><div class=\"sk-item\"><div class=\"sk-estimator sk-toggleable\"><input class=\"sk-toggleable__control sk-hidden--visually\" id=\"sk-estimator-id-2\" type=\"checkbox\" checked><label for=\"sk-estimator-id-2\" class=\"sk-toggleable__label sk-toggleable__label-arrow\">LogisticRegression</label><div class=\"sk-toggleable__content\"><pre>LogisticRegression(max_iter=1000)</pre></div></div></div></div></div>"
            ]
          },
          "metadata": {},
          "execution_count": 45
        }
      ],
      "source": [
        "clf.fit(x_train,y_train_2)"
      ]
    },
    {
      "cell_type": "code",
      "execution_count": 52,
      "metadata": {
        "colab": {
          "base_uri": "https://localhost:8080/"
        },
        "id": "FDOyb7CTZQRN",
        "outputId": "4ba74f3c-a7ca-4229-86de-b5889794e8cd"
      },
      "outputs": [
        {
          "output_type": "stream",
          "name": "stdout",
          "text": [
            "[ True]\n"
          ]
        }
      ],
      "source": [
        "print(clf.predict([some_digit]))\n"
      ]
    },
    {
      "cell_type": "code",
      "execution_count": 47,
      "metadata": {
        "colab": {
          "base_uri": "https://localhost:8080/"
        },
        "id": "4W8cH7ArcZGL",
        "outputId": "68436c02-5ccf-4b7a-923a-0429edc3ce03"
      },
      "outputs": [
        {
          "output_type": "execute_result",
          "data": {
            "text/plain": [
              "array([0.07, 0.13, 0.06, 0.17, 0.1 ])"
            ]
          },
          "metadata": {},
          "execution_count": 47
        }
      ],
      "source": [
        "from sklearn.model_selection import cross_val_score\n",
        "cross_val_score(clf,x_train,y_train)"
      ]
    }
  ],
  "metadata": {
    "colab": {
      "provenance": [],
      "authorship_tag": "ABX9TyO363cSGKpmHu54IGU+avNJ",
      "include_colab_link": true
    },
    "kernelspec": {
      "display_name": "Python 3",
      "name": "python3"
    },
    "language_info": {
      "name": "python"
    }
  },
  "nbformat": 4,
  "nbformat_minor": 0
}